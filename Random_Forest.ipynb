{
 "cells": [
  {
   "cell_type": "code",
   "execution_count": null,
   "metadata": {},
   "outputs": [],
   "source": [
    "import pandas as pd\n",
    "from sklearn.model_selection import train_test_split\n",
    "from sklearn.ensemble import RandomForestClassifier\n",
    "from sklearn.preprocessing import LabelEncoder\n",
    "from sklearn.metrics import accuracy_score, classification_report\n",
    "import numpy as np\n",
    "\n",
    "\n",
    "# Preprocess the data\n",
    "def preprocess_data(file_path):\n",
    "    data = pd.read_csv(file_path)\n",
    "    \n",
    "    # Encode the \"Season\" column\n",
    "    season_mapping = {\"Summer\": 1, \"Winter\": 2, \"Fall\": 3, \"Spring\": 4}\n",
    "    data[\"Season\"] = data[\"Season\"].map(season_mapping)\n",
    "    \n",
    "    # Encode the \"Vaccine Type\" column\n",
    "    le = LabelEncoder()\n",
    "    data[\"Vaccine Type\"] = le.fit_transform(data[\"Vaccine Type\"])\n",
    "    \n",
    "    # Drop unnecessary columns \n",
    "    data = data[[\"Season\", \"Vaccine Type\"]]\n",
    "    \n",
    "    return data, le\n"
   ]
  },
  {
   "cell_type": "code",
   "execution_count": null,
   "metadata": {},
   "outputs": [],
   "source": [
    "# Train the model\n",
    "def train_model(data):\n",
    "    X = data[[\"Season\"]]  \n",
    "    y = data[\"Vaccine Type\"]  \n",
    "    \n",
    "    X_train, X_test, y_train, y_test = train_test_split(X, y, test_size=0.3, random_state=42)\n",
    "    \n",
    "    rf_model = RandomForestClassifier(random_state=42, n_estimators=100)\n",
    "    \n",
    "    rf_model.fit(X_train, y_train)\n",
    "    \n",
    "\n",
    "    y_pred = rf_model.predict(X_test)\n",
    "    accuracy = accuracy_score(y_test, y_pred)\n",
    "    \n",
    "    print(f\"Model Accuracy: {accuracy * 100:.2f}%\")\n",
    "    print(\"\\nClassification Report:\")\n",
    "    print(classification_report(y_test, y_pred))\n",
    "    \n",
    "    return rf_model"
   ]
  },
  {
   "cell_type": "code",
   "execution_count": null,
   "metadata": {},
   "outputs": [],
   "source": [
    "# Predict the vaccine type based on season\n",
    "def predict_vaccine(season, rf_model, le):\n",
    "    input_data = np.array([[season]]) \n",
    "    predicted_vaccine = rf_model.predict(input_data)[0]\n",
    "    vaccine_name = le.inverse_transform([predicted_vaccine])[0]\n",
    "    return vaccine_name"
   ]
  },
  {
   "cell_type": "code",
   "execution_count": null,
   "metadata": {},
   "outputs": [
    {
     "name": "stdout",
     "output_type": "stream",
     "text": [
      "Model Accuracy: 55.56%\n",
      "\n",
      "Classification Report:\n",
      "              precision    recall  f1-score   support\n",
      "\n",
      "           0       0.33      0.50      0.40         2\n",
      "           1       0.75      1.00      0.86         3\n",
      "           2       0.50      0.25      0.33         4\n",
      "\n",
      "    accuracy                           0.56         9\n",
      "   macro avg       0.53      0.58      0.53         9\n",
      "weighted avg       0.55      0.56      0.52         9\n",
      "\n",
      "Seasons: 1 (Summer), 2 (Winter), 3 (Fall), 4 (Spring)\n",
      "The most required vaccine type for the selected season is: Cholera\n"
     ]
    },
    {
     "name": "stderr",
     "output_type": "stream",
     "text": [
      "C:\\Users\\USER\\AppData\\Roaming\\Python\\Python310\\site-packages\\sklearn\\base.py:493: UserWarning: X does not have valid feature names, but RandomForestClassifier was fitted with feature names\n",
      "  warnings.warn(\n"
     ]
    }
   ],
   "source": [
    "# Main function to execute the program\n",
    "def main():\n",
    "    file_path = 'D:\\\\Alisha_Model_Proj\\\\Vaccine_Info.csv'\n",
    "    \n",
    "    data, le = preprocess_data(file_path)\n",
    "    \n",
    "    rf_model = train_model(data)\n",
    "    \n",
    "    print(\"Seasons: 1 (Summer), 2 (Winter), 3 (Fall), 4 (Spring)\")\n",
    "    user_season = int(input(\"Enter a season (1-4): \"))\n",
    "    \n",
    "    if user_season not in [1, 2, 3, 4]:\n",
    "        print(\"Invalid input. Please enter a number between 1 and 4.\")\n",
    "        return\n",
    "    \n",
    "    predicted_vaccine = predict_vaccine(user_season, rf_model, le)\n",
    "    print(f\"The most required vaccine type for the selected season is: {predicted_vaccine}\")\n",
    "\n",
    "\n",
    "# Run the program\n",
    "if __name__ == \"__main__\":\n",
    "    main()"
   ]
  },
  {
   "cell_type": "code",
   "execution_count": null,
   "metadata": {},
   "outputs": [],
   "source": []
  }
 ],
 "metadata": {
  "kernelspec": {
   "display_name": "Python 3",
   "language": "python",
   "name": "python3"
  },
  "language_info": {
   "codemirror_mode": {
    "name": "ipython",
    "version": 3
   },
   "file_extension": ".py",
   "mimetype": "text/x-python",
   "name": "python",
   "nbconvert_exporter": "python",
   "pygments_lexer": "ipython3",
   "version": "3.10.11"
  }
 },
 "nbformat": 4,
 "nbformat_minor": 2
}
